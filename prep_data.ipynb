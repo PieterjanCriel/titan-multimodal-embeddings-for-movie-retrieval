{
 "cells": [
  {
   "cell_type": "code",
   "execution_count": 115,
   "metadata": {},
   "outputs": [],
   "source": [
    "import os\n",
    "import json\n",
    "import pandas as pd\n",
    "import urllib.request\n",
    "import boto3\n",
    "import base64\n",
    "import requests\n",
    "\n",
    "from requests.auth import HTTPBasicAuth\n",
    "from botocore.config import Config"
   ]
  },
  {
   "cell_type": "code",
   "execution_count": 116,
   "metadata": {},
   "outputs": [],
   "source": [
    "json_files = [pos_json for pos_json in os.listdir('movielens/') if pos_json.endswith('.json')]\n",
    "json_data = []\n",
    "for index, js in enumerate(json_files):\n",
    "    with open(os.path.join('movielens/', js)) as json_file:\n",
    "        json_text = json.load(json_file).get('data').get('searchResults')\n",
    "        json_data.extend(json_text)"
   ]
  },
  {
   "cell_type": "code",
   "execution_count": 21,
   "metadata": {},
   "outputs": [],
   "source": [
    "df = pd.DataFrame([json_data[i]['movie'] for i in range(len(json_data))])"
   ]
  },
  {
   "cell_type": "code",
   "execution_count": 26,
   "metadata": {},
   "outputs": [],
   "source": [
    "\n",
    "def download_image(url, file_path, file_name):\n",
    "    full_path = file_path + file_name\n",
    "    urllib.request.urlretrieve(url, full_path)"
   ]
  },
  {
   "cell_type": "code",
   "execution_count": 27,
   "metadata": {},
   "outputs": [],
   "source": [
    "for index, row in df.iterrows():\n",
    "    url = 'https://image.tmdb.org/t/p/w500/' + row['posterPath']\n",
    "    download_image(url, 'images/', row['posterPath'])"
   ]
  },
  {
   "cell_type": "code",
   "execution_count": 148,
   "metadata": {},
   "outputs": [],
   "source": [
    "my_config = Config(\n",
    "    region_name = 'us-east-1',\n",
    "    signature_version = 'v4',\n",
    "    retries = {\n",
    "        'max_attempts': 10,\n",
    "        'mode': 'standard'\n",
    "    }\n",
    ")\n",
    "\n",
    "bedrock = boto3.client(service_name=\"bedrock\", config=my_config)\n",
    "bedrock_runtime = boto3.client(service_name=\"bedrock-runtime\", config=my_config)"
   ]
  },
  {
   "cell_type": "code",
   "execution_count": 119,
   "metadata": {},
   "outputs": [],
   "source": [
    "def get_embedding_for_poster(image_path):\n",
    "    with open(image_path, \"rb\") as image_file:\n",
    "        input_image = base64.b64encode(image_file.read()).decode('utf8')\n",
    "\n",
    "    body = json.dumps(\n",
    "        {\n",
    "            \"inputImage\": input_image\n",
    "        }\n",
    "    )\n",
    "\n",
    "    response = bedrock_runtime.invoke_model(\n",
    "        body=body, \n",
    "        modelId=\"amazon.titan-embed-image-v1\", \n",
    "        accept=\"application/json\", \n",
    "        contentType=\"application/json\"       \n",
    "    )\n",
    "\n",
    "    vector_json = json.loads(response['body'].read().decode('utf8'))\n",
    "    image_name = image_path.split(\"/\")[-1].split(\".\")[0]\n",
    "\n",
    "    return vector_json, image_name\n",
    "\n",
    "def get_embedding_for_poster_and_title(image_path, title):\n",
    "    with open(image_path, \"rb\") as image_file:\n",
    "        input_image = base64.b64encode(image_file.read()).decode('utf8')\n",
    "\n",
    "    body = json.dumps(\n",
    "        {\n",
    "            \"inputImage\": input_image,\n",
    "            \"inputText\": title\n",
    "        }\n",
    "    )\n",
    "\n",
    "    response = bedrock_runtime.invoke_model(\n",
    "        body=body, \n",
    "        modelId=\"amazon.titan-embed-image-v1\", \n",
    "        accept=\"application/json\", \n",
    "        contentType=\"application/json\"       \n",
    "    )\n",
    "\n",
    "    vector_json = json.loads(response['body'].read().decode('utf8'))\n",
    "    image_name = image_path.split(\"/\")[-1].split(\".\")[0]\n",
    "\n",
    "    return vector_json, image_name\n",
    "\n",
    "\n",
    "def get_embedding_for_text(text):\n",
    "    body = json.dumps(\n",
    "        {\n",
    "            \"inputText\": text\n",
    "        }\n",
    "    )\n",
    "\n",
    "    response = bedrock_runtime.invoke_model(\n",
    "        body=body, \n",
    "        modelId=\"amazon.titan-embed-image-v1\", \n",
    "        accept=\"application/json\", \n",
    "        contentType=\"application/json\"       \n",
    "    )\n",
    "\n",
    "    vector_json = json.loads(response['body'].read().decode('utf8'))\n",
    "\n",
    "    return vector_json, text"
   ]
  },
  {
   "cell_type": "code",
   "execution_count": 32,
   "metadata": {},
   "outputs": [],
   "source": [
    "for index, row in df.iterrows():\n",
    "    image_path = 'images/' + row['posterPath']\n",
    "    vector_json, image_name = get_embedding_for_poster(image_path)\n",
    "    with open('embeddings/' + image_name + '.json', 'w') as f:\n",
    "        json.dump(vector_json, f)"
   ]
  },
  {
   "cell_type": "code",
   "execution_count": 35,
   "metadata": {},
   "outputs": [],
   "source": [
    "for index, row in df.iterrows():\n",
    "    image_path = 'images/' + row['posterPath']\n",
    "    vector_json, image_name = get_embedding_for_poster_and_title(image_path, row['title'])\n",
    "    with open('embeddings/' + 'with_title_' + image_name + '.json', 'w') as f:\n",
    "        json.dump(vector_json, f)"
   ]
  },
  {
   "cell_type": "code",
   "execution_count": 51,
   "metadata": {},
   "outputs": [],
   "source": [
    "df = df.drop(columns=['dvdReleaseDate', 'backdropPaths', 'youtubeTrailerIds', 'numRatings', 'avgRating'])"
   ]
  },
  {
   "cell_type": "code",
   "execution_count": 76,
   "metadata": {},
   "outputs": [],
   "source": [
    "base_url = \"https://0.0.0.0:9200\"\n",
    "username = \"admin\"\n",
    "password = \"admin\"\n",
    "\n",
    "requests.packages.urllib3.disable_warnings()\n",
    "\n",
    "response = requests.get(base_url, auth=HTTPBasicAuth(username, password), verify=False)"
   ]
  },
  {
   "cell_type": "code",
   "execution_count": 93,
   "metadata": {},
   "outputs": [
    {
     "name": "stdout",
     "output_type": "stream",
     "text": [
      "{\"acknowledged\":true}\n"
     ]
    }
   ],
   "source": [
    "# if exists, delete the index /multi-modal-embedding-index with requests\n",
    "response = requests.delete(base_url + \"/multi-modal-embedding-index\", auth=HTTPBasicAuth(username, password), verify=False)\n",
    "print(response.text)\n"
   ]
  },
  {
   "cell_type": "code",
   "execution_count": 94,
   "metadata": {},
   "outputs": [],
   "source": [
    "mapping = {\n",
    "    \"settings\": {\n",
    "        \"index.knn\": True,\n",
    "    },\n",
    "    \"mappings\": {\n",
    "        \"properties\": {\n",
    "            \"titan_multimodal_embedding\": {\n",
    "                \"type\": \"knn_vector\",\n",
    "                \"dimension\": 1024\n",
    "            },\n",
    "            \"title\": { \n",
    "                \"type\": \"text\"            \n",
    "            },\n",
    "            \"plotSummary\": { \n",
    "                \"type\": \"text\"            \n",
    "            },\n",
    "            \"movieId\": { \n",
    "                \"type\": \"keyword\"            \n",
    "            },\n",
    "            \"imdbMovieId\": { \n",
    "                \"type\": \"keyword\"            \n",
    "            },\n",
    "            \"posterPath\": { \n",
    "                \"type\": \"text\"            \n",
    "            },\n",
    "        }\n",
    "    }\n",
    "}"
   ]
  },
  {
   "cell_type": "code",
   "execution_count": 95,
   "metadata": {},
   "outputs": [],
   "source": [
    "response = requests.put(base_url + \"/multi-modal-embedding-index\", auth=HTTPBasicAuth(username, password), verify=False, json=mapping)"
   ]
  },
  {
   "cell_type": "code",
   "execution_count": 97,
   "metadata": {},
   "outputs": [],
   "source": [
    "def create_document_from_row(row):\n",
    "\n",
    "    embedding_file = 'embeddings/with_title_' + row['posterPath'].split(\"/\")[-1].split(\".\")[0] + '.json'\n",
    "    with open(embedding_file) as json_file:\n",
    "        data = json.load(json_file)\n",
    "\n",
    "    document = {\n",
    "        \"titan_multimodal_embedding\": data['embedding'],\n",
    "        \"title\": row['title'],\n",
    "        \"plotSummary\": row['plotSummary'],\n",
    "        \"movieId\": row['movieId'],\n",
    "        \"imdbMovieId\": row['imdbMovieId'],\n",
    "        \"posterPath\": row['posterPath']        \n",
    "    }\n",
    "    return document"
   ]
  },
  {
   "cell_type": "code",
   "execution_count": 98,
   "metadata": {},
   "outputs": [],
   "source": [
    "for index, row in df.iterrows():\n",
    "    document = create_document_from_row(row)\n",
    "    response = requests.post(base_url + \"/multi-modal-embedding-index/_doc\", auth=HTTPBasicAuth(username, password), verify=False, json=document)"
   ]
  }
 ],
 "metadata": {
  "kernelspec": {
   "display_name": "base",
   "language": "python",
   "name": "python3"
  },
  "language_info": {
   "codemirror_mode": {
    "name": "ipython",
    "version": 3
   },
   "file_extension": ".py",
   "mimetype": "text/x-python",
   "name": "python",
   "nbconvert_exporter": "python",
   "pygments_lexer": "ipython3",
   "version": "3.9.13"
  }
 },
 "nbformat": 4,
 "nbformat_minor": 2
}
